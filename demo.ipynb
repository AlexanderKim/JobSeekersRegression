{
 "cells": [
  {
   "cell_type": "code",
   "execution_count": 151,
   "metadata": {
    "collapsed": true
   },
   "outputs": [],
   "source": [
    "import pandas as pd\n",
    "from pandas.tools.plotting import scatter_matrix\n",
    "import matplotlib.pyplot as plt\n",
    "%matplotlib inline\n",
    "from sklearn import cross_validation\n",
    "from sklearn.metrics import classification_report\n",
    "from sklearn.metrics import confusion_matrix\n",
    "from sklearn.metrics import accuracy_score\n",
    "from sklearn.linear_model import LogisticRegression, LinearRegression\n",
    "from sklearn.tree import DecisionTreeClassifier\n",
    "from sklearn.neighbors import KNeighborsClassifier\n",
    "from sklearn.discriminant_analysis import LinearDiscriminantAnalysis\n",
    "from sklearn.naive_bayes import GaussianNB\n",
    "from sklearn.svm import SVC, SVR\n",
    "import numpy as np"
   ]
  },
  {
   "cell_type": "code",
   "execution_count": 37,
   "metadata": {
    "collapsed": true
   },
   "outputs": [],
   "source": [
    "dataset = pd.read_csv(\"https://s3-us-west-2.amazonaws.com/jobseekersregression/steves_labels.tsv\", sep='\\t')"
   ]
  },
  {
   "cell_type": "code",
   "execution_count": 153,
   "metadata": {
    "collapsed": false
   },
   "outputs": [],
   "source": [
    "valuable_columns = [\n",
    "    \"Duration numeric\",\n",
    "    \"Level numeric\",\n",
    "    \"Size numeric\",\n",
    "    \"Revenue numeric\",\n",
    "    \"OrgSize numeric\",\n",
    "    \"Quality of Network\"\n",
    "]\n",
    "\n",
    "label_columns = [\n",
    "    \"Potential_success\",\n",
    "    \"Increase_revenue\"\n",
    "]\n",
    "\n",
    "for column in valuable_columns + label_columns:\n",
    "    dataset[column] = pd.to_numeric(dataset[column])"
   ]
  },
  {
   "cell_type": "code",
   "execution_count": 154,
   "metadata": {
    "collapsed": false
   },
   "outputs": [],
   "source": [
    "features = dataset[valuable_columns]\n",
    "labels = dataset[label_columns]\n",
    "validation_size = 0.33\n",
    "seed = 7\n",
    "\n",
    "features_train, features_validation, labels_train, labels_validation =\\\n",
    "    cross_validation.train_test_split(features, labels, test_size=validation_size, random_state=seed)"
   ]
  },
  {
   "cell_type": "code",
   "execution_count": 155,
   "metadata": {
    "collapsed": false
   },
   "outputs": [
    {
     "data": {
      "text/plain": [
       "0.71957307345281873"
      ]
     },
     "execution_count": 155,
     "metadata": {},
     "output_type": "execute_result"
    }
   ],
   "source": [
    "linear_regression = LinearRegression()\n",
    "linear_regression.fit(features_train, labels_train)\n",
    "linear_regression.score(features, labels)"
   ]
  },
  {
   "cell_type": "code",
   "execution_count": 156,
   "metadata": {
    "collapsed": true
   },
   "outputs": [],
   "source": [
    "weights = {\n",
    "            \"Duration numeric\":\n",
    "                {\n",
    "                    \"Less than 1 year\": 1,\n",
    "                    \"1-2 years\": 2,\n",
    "                    \"2+ years\": 3\n",
    "                },\n",
    "            \"Level numeric\":\n",
    "                {\n",
    "                    \"Title: Less than Director\": 1,\n",
    "                    \"Title: Sr Director\": 2,\n",
    "                    \"Title: VP or above\": 3\n",
    "                },\n",
    "            \"Size numeric\":\n",
    "                {\n",
    "                    \"Less than 400\": 1,\n",
    "                    \"400-500\": 2,\n",
    "                    \"500+\": 3\n",
    "                },\n",
    "            \"Revenue numeric\":\n",
    "                {\n",
    "                    \"Less than 10%\": 1,\n",
    "                    \"Less than 20%\": 2,\n",
    "                    \"21%+\": 3\n",
    "                },\n",
    "            \"OrgSize numeric\":\n",
    "                {\n",
    "                    \"100-500\": 1,\n",
    "                    \"10-100\": 2,\n",
    "                    \"500+\": 3\n",
    "                },\n",
    "            \"Quality of Network\":\n",
    "                {\n",
    "                    1: 1,\n",
    "                    3: 3,\n",
    "                    5: 5\n",
    "                }\n",
    "        }\n",
    "\n",
    "def quantify_features(candidates):\n",
    "    for column in candidates:\n",
    "        candidates[column] = candidates[column].apply(lambda x: weights[column][x])"
   ]
  },
  {
   "cell_type": "code",
   "execution_count": 157,
   "metadata": {
    "collapsed": false
   },
   "outputs": [
    {
     "name": "stdout",
     "output_type": "stream",
     "text": [
      "Potential of success in role % 21.290186\nIncrease revenue in 12 months % -5.874767\n"
     ]
    }
   ],
   "source": [
    "bad_candidate = pd.DataFrame({\n",
    "    \"Duration numeric\": [\"Less than 1 year\"],\n",
    "    \"Level numeric\": [\"Title: Less than Director\"],\n",
    "    \"Size numeric\": [\"Less than 400\"],\n",
    "    \"Revenue numeric\": [\"Less than 10%\"],\n",
    "    \"OrgSize numeric\": [\"100-500\"],\n",
    "    \"Quality of Network\": 1\n",
    "})\n",
    "\n",
    "quantify_features(bad_candidate)\n",
    "predictions = linear_regression.predict(bad_candidate)\n",
    "\n",
    "print(\"Potential of success in role %% %f\" % predictions[0][0])\n",
    "print(\"Increase revenue in 12 months %% %f\" % predictions[0][1])"
   ]
  },
  {
   "cell_type": "code",
   "execution_count": 158,
   "metadata": {
    "collapsed": true
   },
   "outputs": [
    {
     "name": "stdout",
     "output_type": "stream",
     "text": [
      "Potential of success in role % 65.859530\nIncrease revenue in 12 months % 57.635717\n"
     ]
    }
   ],
   "source": [
    "medium_candidate = pd.DataFrame({\n",
    "    \"Duration numeric\": [\"1-2 years\"],\n",
    "    \"Level numeric\": [\"Title: Sr Director\"],\n",
    "    \"Size numeric\": [\"400-500\"],\n",
    "    \"Revenue numeric\": [\"Less than 20%\"],\n",
    "    \"OrgSize numeric\": [\"10-100\"],\n",
    "    \"Quality of Network\": 3\n",
    "})\n",
    "\n",
    "quantify_features(medium_candidate)\n",
    "predictions = linear_regression.predict(medium_candidate)\n",
    "\n",
    "print(\"Potential of success in role %% %f\" % predictions[0][0])\n",
    "print(\"Increase revenue in 12 months %% %f\" % predictions[0][1])"
   ]
  },
  {
   "cell_type": "code",
   "execution_count": 159,
   "metadata": {},
   "outputs": [
    {
     "name": "stdout",
     "output_type": "stream",
     "text": [
      "Potential of success in role % 110.428874\nIncrease revenue in 12 months % 121.146200\n"
     ]
    }
   ],
   "source": [
    "good_candidate = pd.DataFrame({\n",
    "    \"Duration numeric\": [\"2+ years\"],\n",
    "    \"Level numeric\": [\"Title: VP or above\"],\n",
    "    \"Size numeric\": [\"500+\"],\n",
    "    \"Revenue numeric\": [\"21%+\"],\n",
    "    \"OrgSize numeric\": [\"500+\"],\n",
    "    \"Quality of Network\": 5\n",
    "})\n",
    "\n",
    "quantify_features(good_candidate)\n",
    "predictions = linear_regression.predict(good_candidate)\n",
    "\n",
    "print(\"Potential of success in role %% %f\" % predictions[0][0])\n",
    "print(\"Increase revenue in 12 months %% %f\" % predictions[0][1])"
   ]
  },
  {
   "cell_type": "code",
   "execution_count": null,
   "metadata": {},
   "outputs": [],
   "source": [
    ""
   ]
  }
 ],
 "metadata": {
  "anaconda-cloud": {},
  "kernelspec": {
   "display_name": "Python [conda root]",
   "language": "python",
   "name": "conda-root-py"
  },
  "language_info": {
   "codemirror_mode": {
    "name": "ipython",
    "version": 3.0
   },
   "file_extension": ".py",
   "mimetype": "text/x-python",
   "name": "python",
   "nbconvert_exporter": "python",
   "pygments_lexer": "ipython3",
   "version": "3.5.2"
  }
 },
 "nbformat": 4,
 "nbformat_minor": 0
}