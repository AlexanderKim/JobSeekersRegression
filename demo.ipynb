{
 "cells": [
  {
   "cell_type": "code",
   "execution_count": 5,
   "metadata": {
    "collapsed": true
   },
   "outputs": [],
   "source": [
    "import pandas as pd\n",
    "from pandas.tools.plotting import scatter_matrix\n",
    "import matplotlib.pyplot as plt\n",
    "%matplotlib inline\n",
    "from sklearn import cross_validation\n",
    "from sklearn.metrics import classification_report\n",
    "from sklearn.metrics import confusion_matrix\n",
    "from sklearn.metrics import accuracy_score\n",
    "from sklearn.linear_model import LogisticRegression, LinearRegression\n",
    "from sklearn.tree import DecisionTreeClassifier\n",
    "from sklearn.neighbors import KNeighborsClassifier\n",
    "from sklearn.discriminant_analysis import LinearDiscriminantAnalysis\n",
    "from sklearn.naive_bayes import GaussianNB\n",
    "from sklearn.svm import SVC, SVR\n",
    "import numpy as np"
   ]
  },
  {
   "cell_type": "code",
   "execution_count": 6,
   "metadata": {
    "collapsed": true
   },
   "outputs": [],
   "source": [
    "dataset = pd.read_csv(\"https://s3-us-west-2.amazonaws.com/jobseekersregression/steves_labels.tsv\", sep='\\t')"
   ]
  },
  {
   "cell_type": "code",
   "execution_count": 7,
   "metadata": {
    "collapsed": false
   },
   "outputs": [],
   "source": [
    "valuable_columns = [\n",
    "    \"Duration numeric\",\n",
    "    \"Level numeric\",\n",
    "    \"Size numeric\",\n",
    "    \"Revenue numeric\",\n",
    "    \"Size numeric\",\n",
    "    \"Quality of Network\"\n",
    "]\n",
    "\n",
    "label_columns = [\n",
    "    \"Potential_success\",\n",
    "    \"Increase_revenue\"\n",
    "]\n",
    "\n",
    "for column in valuable_columns + label_columns:\n",
    "    dataset[column] = pd.to_numeric(dataset[column])"
   ]
  },
  {
   "cell_type": "code",
   "execution_count": 9,
   "metadata": {
    "collapsed": false
   },
   "outputs": [],
   "source": [
    "features = dataset[valuable_columns]\n",
    "labels = dataset[label_columns]\n",
    "validation_size = 0.33\n",
    "seed = 7\n",
    "\n",
    "features_train, features_validation, labels_train, labels_validation =\\\n",
    "    cross_validation.train_test_split(features, labels, test_size=validation_size, random_state=seed)"
   ]
  },
  {
   "cell_type": "code",
   "execution_count": 10,
   "metadata": {
    "collapsed": false
   },
   "outputs": [
    {
     "name": "stdout",
     "output_type": "stream",
     "text": [
      "Coefficients:\n",
      " [[  1.35941439  14.95443772   0.64098622  12.16282912   0.64098622\n",
      "    4.03590969]\n",
      " [  1.77345378  22.62648454   0.52691858  18.92342909   0.52691858\n",
      "    5.87406138]]\n"
     ]
    },
    {
     "data": {
      "text/plain": [
       "0.71341175277772118"
      ]
     },
     "execution_count": 10,
     "metadata": {},
     "output_type": "execute_result"
    }
   ],
   "source": [
    "regression = LinearRegression()\n",
    "regression.fit(features_train, labels_train)\n",
    "print(\"Coefficients:\\n\", regression.coef_)\n",
    "regression.score(features_validation, labels_validation)"
   ]
  },
  {
   "cell_type": "code",
   "execution_count": 11,
   "metadata": {
    "collapsed": true
   },
   "outputs": [],
   "source": [
    "prediction = regression.predict(features_validation)\n",
    "prediction_dataframe = pd.DataFrame(prediction)"
   ]
  },
  {
   "cell_type": "code",
   "execution_count": 12,
   "metadata": {
    "collapsed": false
   },
   "outputs": [
    {
     "data": {
      "image/png": "[encoded data removed]",
      "text/plain": [
       "<matplotlib.figure.Figure at 0x10bc7e240>"
      ]
     },
     "metadata": {},
     "output_type": "display_data"
    },
    {
     "data": {
      "image/png": "[encoded data removed]",
      "text/plain": [
       "<matplotlib.figure.Figure at 0x116c81c18>"
      ]
     },
     "metadata": {},
     "output_type": "display_data"
    }
   ],
   "source": [
    "def plot_sets(ax, sets):\n",
    "    for set_to_plot, color in sets:\n",
    "        plt.scatter(range(len(ax)), set_to_plot, color=color)\n",
    "        \n",
    "    plt.xticks()\n",
    "    plt.yticks()\n",
    "    plt.show()\n",
    "    \n",
    "for index, column in enumerate(label_columns):\n",
    "    plot_sets(ax=features_validation, sets=\n",
    "                [\n",
    "                    (labels_validation[column], \"blue\"),\n",
    "                    (prediction_dataframe[index], \"red\"),\n",
    "                ])"
   ]
  },
  {
   "cell_type": "code",
   "execution_count": null,
   "metadata": {
    "collapsed": true
   },
   "outputs": [],
   "source": []
  }
 ],
 "metadata": {
  "anaconda-cloud": {},
  "kernelspec": {
   "display_name": "Python [conda root]",
   "language": "python",
   "name": "conda-root-py"
  },
  "language_info": {
   "codemirror_mode": {
    "name": "ipython",
    "version": 3
   },
   "file_extension": ".py",
   "mimetype": "text/x-python",
   "name": "python",
   "nbconvert_exporter": "python",
   "pygments_lexer": "ipython3",
   "version": "3.5.2"
  }
 },
 "nbformat": 4,
 "nbformat_minor": 0
}
